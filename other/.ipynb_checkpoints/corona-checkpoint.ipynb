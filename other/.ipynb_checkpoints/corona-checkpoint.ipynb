{
 "cells": [
  {
   "cell_type": "markdown",
   "metadata": {},
   "source": [
    "### Notes\n",
    "\n",
    "Hopkins and Oxford datasets differ by a day but are the same thing (bc of updating at end of day vs. beginning of day).\n",
    "\n",
    "---"
   ]
  },
  {
   "cell_type": "code",
   "execution_count": null,
   "metadata": {
    "collapsed": true
   },
   "outputs": [],
   "source": [
    "import pandas as pd\n",
    "import matplotlib.pyplot as plt"
   ]
  },
  {
   "cell_type": "code",
   "execution_count": null,
   "metadata": {
    "collapsed": true
   },
   "outputs": [],
   "source": [
    "# HOPKINS — https://raw.githubusercontent.com/CSSEGISandData/COVID-19/master/csse_covid_19_data/csse_covid_19_time_series/time_series_19-covid-Confirmed.csv\n",
    "hopkins_confirmed = pd.read_csv(\"https://raw.githubusercontent.com/CSSEGISandData/COVID-19/master/csse_covid_19_data/csse_covid_19_time_series/time_series_19-covid-Confirmed.csv\").iloc[:, 4:].sum()"
   ]
  },
  {
   "cell_type": "code",
   "execution_count": null,
   "metadata": {
    "collapsed": true
   },
   "outputs": [],
   "source": [
    "# OXFORD – https://cowid.netlify.com/data/full_data.csv\n",
    "oxford_confirmed = pd.read_csv(\"https://cowid.netlify.com/data/full_data.csv\")\n",
    "oxford_confirmed = oxford_confirmed.loc[oxford_confirmed[\"location\"] == \"World\"].loc[:, \"total_cases\"]"
   ]
  },
  {
   "cell_type": "code",
   "execution_count": null,
   "metadata": {},
   "outputs": [],
   "source": [
    "plt.title(\"Worldwide Spread\", fontsize = 12)\n",
    "plt.plot([i for i in range(len(hopkins_confirmed))], list(hopkins_confirmed), label = 'Hopkins')\n",
    "plt.plot([i for i in range(len(oxford_confirmed))], list(oxford_confirmed), label = 'Oxford')\n",
    "\n",
    "plt.xlabel(\"Date\", fontsize = 12)\n",
    "plt.ylabel(\"# of People\", fontsize = 12)\n",
    "plt.legend()\n",
    "\n",
    "plt.show()"
   ]
  },
  {
   "cell_type": "markdown",
   "metadata": {
    "collapsed": true
   },
   "source": [
    "---"
   ]
  },
  {
   "cell_type": "code",
   "execution_count": 1,
   "metadata": {
    "collapsed": true
   },
   "outputs": [],
   "source": [
    "import pandas as pd\n",
    "import numpy as np\n",
    "from datetime import datetime,timedelta\n",
    "from sklearn.metrics import mean_squared_error\n",
    "from scipy.optimize import curve_fit\n",
    "from scipy.optimize import fsolve\n",
    "import matplotlib.pyplot as plt\n",
    "%matplotlib inline"
   ]
  },
  {
   "cell_type": "code",
   "execution_count": 2,
   "metadata": {
    "collapsed": true
   },
   "outputs": [],
   "source": [
    "oxford_confirmed = pd.read_csv(\"https://cowid.netlify.com/data/full_data.csv\")\n",
    "oxford = oxford_confirmed.loc[oxford_confirmed[\"location\"] == \"United States\"].loc[:, \"total_cases\"]"
   ]
  },
  {
   "cell_type": "code",
   "execution_count": 3,
   "metadata": {},
   "outputs": [
    {
     "data": {
      "text/plain": [
       "2391       1\n",
       "2392       1\n",
       "2393       2\n",
       "2394       2\n",
       "2395       5\n",
       "2396       5\n",
       "2397       5\n",
       "2398       5\n",
       "2399       6\n",
       "2400       7\n",
       "2401       8\n",
       "2402      11\n",
       "2403      11\n",
       "2404      11\n",
       "2405      12\n",
       "2406      12\n",
       "2407      12\n",
       "2408      12\n",
       "2409      12\n",
       "2410      13\n",
       "2411      13\n",
       "2412      14\n",
       "2413      15\n",
       "2414      15\n",
       "2415      15\n",
       "2416      15\n",
       "2417      15\n",
       "2418      15\n",
       "2419      15\n",
       "2420      15\n",
       "2421      35\n",
       "2422      35\n",
       "2423      35\n",
       "2424      53\n",
       "2425      53\n",
       "2426      59\n",
       "2427      59\n",
       "2428      62\n",
       "2429      62\n",
       "2430      62\n",
       "2431      64\n",
       "2432     108\n",
       "2433     129\n",
       "2434     148\n",
       "2435     213\n",
       "2436     213\n",
       "2437     213\n",
       "2438     472\n",
       "2439     696\n",
       "2440     987\n",
       "2441    1264\n",
       "2442    1678\n",
       "2443    1678\n",
       "Name: total_cases, dtype: int64"
      ]
     },
     "execution_count": 3,
     "metadata": {},
     "output_type": "execute_result"
    }
   ],
   "source": [
    "oxford"
   ]
  },
  {
   "cell_type": "code",
   "execution_count": null,
   "metadata": {},
   "outputs": [],
   "source": [
    "plt.title(\"United States Spread\", fontsize = 12)\n",
    "plt.plot([i for i in range(len(oxford[:]))], list(oxford[:]), label = 'Oxford')\n",
    "\n",
    "plt.xlabel(\"Date\", fontsize = 12)\n",
    "plt.ylabel(\"# of People\", fontsize = 12)\n",
    "plt.legend()\n",
    "\n",
    "plt.show()"
   ]
  },
  {
   "cell_type": "code",
   "execution_count": null,
   "metadata": {},
   "outputs": [],
   "source": [
    "def logistic_model(x,a,b,c):\n",
    "    return(c / (1 + np.exp(-(x - b) / a)))\n",
    "\n",
    "x = [i for i in range(len(oxford[29:]))]\n",
    "y = list(oxford[29:])\n",
    "\n",
    "fit = curve_fit(logistic_model,x,y)\n",
    "\n",
    "a = fit[0][0]\n",
    "b = fit[0][1]\n",
    "c = fit[0][2]\n",
    "\n",
    "sol = int(fsolve(lambda x : logistic_model(x,a,b,c) - int(c),b))\n",
    "\n",
    "errors = [np.sqrt(fit[1][i][i]) for i in [0,1,2]]\n",
    "\n",
    "pred_x = list(range(max(x),sol))\n",
    "plt.rcParams['figure.figsize'] = [7, 7]\n",
    "plt.rc('font', size=14)\n",
    "# Real data\n",
    "plt.scatter(x,y,label=\"Real data\",color=\"red\")\n",
    "# Predicted logistic curve\n",
    "plt.plot(x+pred_x, [logistic_model(i,fit[0][0],fit[0][1],fit[0][2]) for i in x+pred_x], label=\"Logistic model\" )\n",
    "\n",
    "plt.legend()\n",
    "plt.xlabel(\"Days since 1 January 2020\")\n",
    "plt.ylabel(\"Total number of infected people\")\n",
    "plt.ylim((min(y)*0.9,c*1.1))\n",
    "plt.show()"
   ]
  },
  {
   "cell_type": "code",
   "execution_count": null,
   "metadata": {
    "collapsed": true
   },
   "outputs": [],
   "source": []
  }
 ],
 "metadata": {
  "kernelspec": {
   "display_name": "Python 3",
   "language": "python",
   "name": "python3"
  },
  "language_info": {
   "codemirror_mode": {
    "name": "ipython",
    "version": 3
   },
   "file_extension": ".py",
   "mimetype": "text/x-python",
   "name": "python",
   "nbconvert_exporter": "python",
   "pygments_lexer": "ipython3",
   "version": "3.6.6"
  }
 },
 "nbformat": 4,
 "nbformat_minor": 2
}
